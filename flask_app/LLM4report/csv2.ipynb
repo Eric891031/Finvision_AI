{
 "cells": [
  {
   "cell_type": "code",
   "execution_count": 1,
   "metadata": {},
   "outputs": [],
   "source": [
    "import pandas as pd\n",
    "from g4f.client import Client\n",
    "import re\n",
    "client = Client()"
   ]
  },
  {
   "cell_type": "code",
   "execution_count": 2,
   "metadata": {},
   "outputs": [],
   "source": [
    "def load_data(file_path: str) -> pd.DataFrame:\n",
    "    \"\"\"\n",
    "    加載 CSV 文件並處理錯誤行。\n",
    "    \"\"\"\n",
    "    try:\n",
    "        return pd.read_csv(file_path, on_bad_lines=\"skip\", encoding=\"utf-8\")\n",
    "    except pd.errors.ParserError as e:\n",
    "        raise Exception(f\"CSV 文件解析錯誤：{e}\")\n",
    "    except Exception as e:\n",
    "        raise Exception(f\"讀取數據時發生錯誤：{e}\")\n",
    "\n"
   ]
  },
  {
   "cell_type": "code",
   "execution_count": 3,
   "metadata": {},
   "outputs": [],
   "source": [
    "def generate_summary_statistics(data):\n",
    "    \"\"\"\n",
    "    生成數據的描述性統計量。\n",
    "\n",
    "    Args:\n",
    "        data (DataFrame): 輸入的數據。\n",
    "\n",
    "    Returns:\n",
    "        DataFrame: 描述性統計量。\n",
    "    \"\"\"\n",
    "    return data.describe(include='all')\n",
    "\n"
   ]
  },
  {
   "cell_type": "code",
   "execution_count": 4,
   "metadata": {},
   "outputs": [],
   "source": [
    "def construct_prompt(user_input, summary_stats):\n",
    "    \"\"\"\n",
    "    根據用戶輸入與數據統計生成提示。\n",
    "\n",
    "    Args:\n",
    "        user_input (str): 用戶的查詢。\n",
    "        summary_stats (DataFrame): 數據的描述性統計量。\n",
    "\n",
    "    Returns:\n",
    "        tuple: 系統提示與用戶提示。\n",
    "    \"\"\"\n",
    "    system_prompt = (\n",
    "        \"你是一位專業的數據科學家，擅長分析數據並從中提取見解。\"\n",
    "        \"以下是一些描述性統計數據，請根據這些數據提供深入分析和建議：\\n\"\n",
    "        \"1. 描述數據的整體特性，例如平均值、標準差、數據分佈等。\\n\"\n",
    "        \"2. 尋找可能的異常值或數據問題，並評估其對分析結果的影響。\\n\"\n",
    "        \"3. 如果有類別型數據，請分析其分佈特性和可能的相關性。\\n\"\n",
    "        \"4. 根據數據，提供有助於業務決策的具體建議，例如潛在的改進方向或應關注的特定領域。\\n\"\n",
    "        \"5. 將您的分析結論簡潔清楚地表達，並建議下一步的數據收集或分析方向。\")\n",
    "    \n",
    "\n",
    "\n",
    "    user_prompt = (\n",
    "        f\"數據的描述性統計如下：\\n{summary_stats}\\n\"\n",
    "        f\"請根據這些數據回答以下問題：{user_input}\"\n",
    "    )\n",
    "\n",
    "    \"請分析以下股票數據，並給出專業的分析報告\"\n",
    "\n",
    "    return system_prompt, user_prompt\n"
   ]
  },
  {
   "cell_type": "code",
   "execution_count": 5,
   "metadata": {},
   "outputs": [],
   "source": [
    "def generate_report(user_input, csv_file_path):\n",
    "    \"\"\"\n",
    "    基於自然語言查詢和CSV數據生成分析報告。\n",
    "\n",
    "    Args:\n",
    "        user_input (str): 用戶查詢。\n",
    "        csv_file_path (str): CSV文件路徑。\n",
    "\n",
    "    Returns:\n",
    "        str: 分析報告或錯誤信息。\n",
    "    \"\"\"\n",
    "    data = load_data(csv_file_path)\n",
    "    if isinstance(data, str):  # 返回錯誤信息時\n",
    "        return data\n",
    "    summary_stats = generate_summary_statistics(data)\n",
    "    system_prompt, user_prompt = construct_prompt(user_input, summary_stats)\n",
    "    client = Client()\n",
    "    try:\n",
    "        response = client.chat.completions.create(\n",
    "            model=\"gpt-4o-mini\",\n",
    "            messages=[\n",
    "                {\"role\": \"system\", \"content\": system_prompt},\n",
    "                {\"role\": \"user\", \"content\": user_prompt}\n",
    "            ],\n",
    "            temperature=0.1\n",
    "        )\n",
    "        return response.choices[0].message.content.strip()\n",
    "    except Exception as e:\n",
    "        return f\"生成報告時發生錯誤：{e}\"\n"
   ]
  },
  {
   "cell_type": "code",
   "execution_count": 6,
   "metadata": {},
   "outputs": [
    {
     "name": "stdout",
     "output_type": "stream",
     "text": [
      "New g4f version: 0.4.0.2 (current: 0.3.9.7) | pip install -U g4f\n",
      "生成的報告：\n",
      "根據提供的描述性統計數據，我們可以進行以下分析和建議：\n",
      "\n",
      "### 1. 數據的整體特性\n",
      "- **平均值**：操作利潤率的平均值為38.38%，這表明在觀察期間內，公司的利潤表現相對穩定。\n",
      "- **標準差**：標準差為2.33%，顯示出利潤率的變異性相對較小，數據分佈較為集中。\n",
      "- **數據分佈**：\n",
      "  - 最小值為33.60%，最大值為42.81%，顯示出利潤率在這段時間內有一定的波動。\n",
      "  - 四分位數顯示，25%的數據低於36.39%，50%的數據（中位數）為38.63%，75%的數據低於40.09%。這表明大多數數據集中在38%到40%之間。\n",
      "\n",
      "### 2. 異常值或數據問題\n",
      "- 在這組數據中，沒有明顯的異常值（outliers），因為所有的利潤率都在合理範圍內（33.60%到42.81%）。不過，進一步的可視化（如箱型圖）可以幫助確認是否存在潛在的異常值。\n",
      "- 數據的完整性看起來良好，沒有缺失值（count = 56），這對於分析結果的可靠性是有利的。\n",
      "\n",
      "### 3. 類別型數據分析\n",
      "- **季度分佈**：數據中有四個季度（Q1, Q2, Q3, Q4），其中Q1的出現頻率最高（14次），這可能表明公司在第一季度的業務表現較為穩定或有季節性影響。\n",
      "- 建議進一步分析不同季度的利潤率變化，看看是否存在季節性趨勢或特定季度的表現異常。\n",
      "\n",
      "### 4. 業務決策建議\n",
      "- **潛在改進方向**：考慮分析不同季度的利潤率，特別是Q1的表現，找出成功的因素並在其他季度中應用。\n",
      "- **關注特定領域**：如果未來的數據顯示某些季度的利潤率顯著低於平均水平，則應進一步調查原因，並制定相應的改進策略。\n",
      "- **持續監測**：建議定期收集和分析利潤率數據，以便及時發現趨勢變化並做出相應的業務調整。\n",
      "\n",
      "### 5. 下一步的數據收集或分析方向\n",
      "- **數據收集**：建議收集更長時間範圍內的數據，以便進行時間序列分析，了解利潤率的長期趨勢。\n",
      "- **深入分析**：可以考慮進行回歸分析，探索影響利潤率的其他因素（如市場環境、成本結構等），以獲得更深入的見解。\n",
      "\n",
      "總結來說，這組數據顯示出公司在觀察期間內的利潤率表現穩定，但仍需進一步分析季度間的差異及其影響因素，以便制定更有效的業務策略。\n"
     ]
    }
   ],
   "source": [
    "if __name__ == \"__main__\":\n",
    "    csv_file = r\".\\csv.ingredient\\tsmc_operating_profit_margin_2010_2023.csv\"\n",
    "    user_input = \"請分析數據並提供詳細見解和建議。\"\n",
    "\n",
    "    report = generate_report(user_input, csv_file)\n",
    "    print(\"生成的報告：\")\n",
    "    print(report)\n",
    "\n"
   ]
  }
 ],
 "metadata": {
  "kernelspec": {
   "display_name": "project_env",
   "language": "python",
   "name": "python3"
  },
  "language_info": {
   "codemirror_mode": {
    "name": "ipython",
    "version": 3
   },
   "file_extension": ".py",
   "mimetype": "text/x-python",
   "name": "python",
   "nbconvert_exporter": "python",
   "pygments_lexer": "ipython3",
   "version": "3.9.8"
  }
 },
 "nbformat": 4,
 "nbformat_minor": 2
}
