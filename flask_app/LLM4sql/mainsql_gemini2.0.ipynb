{
 "cells": [
  {
   "cell_type": "code",
   "execution_count": 1,
   "metadata": {},
   "outputs": [],
   "source": [
    "from google import genai\n",
    "from google.genai import types\n",
    "from db_utils import csv_read,query_database\n",
    "import base64\n",
    "import re\n",
    "import os"
   ]
  },
  {
   "cell_type": "code",
   "execution_count": 2,
   "metadata": {},
   "outputs": [],
   "source": [
    "os.environ['GOOGLE_APPLICATION_CREDENTIALS'] = r'D:\\api\\gemini2.0.json'"
   ]
  },
  {
   "cell_type": "code",
   "execution_count": 3,
   "metadata": {},
   "outputs": [],
   "source": [
    "client = genai.Client(\n",
    "        vertexai=True,\n",
    "        project=\"gen-lang-client-0000496465\",\n",
    "        location=\"us-central1\"\n",
    "    )"
   ]
  },
  {
   "cell_type": "code",
   "execution_count": 4,
   "metadata": {},
   "outputs": [],
   "source": [
    "def extract_sql_queries(sql_response):\n",
    "    matches = re.findall(r'SELECT.*?;', sql_response, re.IGNORECASE | re.DOTALL) \n",
    "    if matches:\n",
    "        # 移除每個匹配項中的換行符號 \n",
    "        matches = [match.replace('\\n', ' ') for match in matches]\n",
    "        return matches \n",
    "    else: \n",
    "        raise ValueError(\"SQL查詢指令未找到\")"
   ]
  },
  {
   "cell_type": "code",
   "execution_count": 5,
   "metadata": {},
   "outputs": [],
   "source": [
    "def generate_sql_from_nl(user_input):\n",
    "    csv_string = csv_read()\n",
    "    system_prompt = f'''\n",
    "        1. 你是一個財務資料庫專家，能夠生成相應的SQL指令。 \n",
    "        2. SQL的編寫請用全英文，結束請記得給分號。\n",
    "        3. 非常重要!返回sql語法即可，不用其他說明與文字。\n",
    "        4. MYSQL code中請不要出現資料庫中沒有的英文名稱。\n",
    "        5. 請務必生成完整SQL語法，並一定要在首欄加入年或季度的欄位，例如seasonid。\n",
    "       '''\n",
    "    user_prompt = f'''\n",
    "        1.資料庫結構、表名稱、欄位名稱請務必參考以下內容:{csv_string}\n",
    "        2.一定不能生成沒有的sql表名與欄名，欄位名稱請盡量比對中文對照!\n",
    "        3.請務必要判斷是否需要跨表查詢，如需要請使用join指令。\n",
    "        4.另外時間只有年與季度seasonsID，例如2010年第一季格式為201001、2010年第二季格式為201002、\n",
    "        2020年第三季格式為202003、2020年第四季格式為202004\n",
    "                   '''\n",
    "    model= \"gemini-2.0-flash-exp\"\n",
    "    \n",
    "    generation_config = types.GenerateContentConfig(\n",
    "            max_output_tokens=150,\n",
    "            temperature=0.1,\n",
    "            response_modalities = [\"TEXT\"]\n",
    "            )\n",
    "    \n",
    "    contents = [types.Content(parts=[\n",
    "            types.Part.from_text(system_prompt + user_input + user_prompt)\n",
    "        ], role=\"user\")\n",
    "    ]\n",
    "\n",
    "    response = client.models.generate_content(\n",
    "            model = model,\n",
    "            contents = contents,\n",
    "            config = generation_config)\n",
    "\n",
    "    sql_response = response.text\n",
    "    print(f\"回答:{sql_response}\")\n",
    "    return sql_response\n"
   ]
  },
  {
   "cell_type": "code",
   "execution_count": 6,
   "metadata": {},
   "outputs": [],
   "source": [
    "def classify_user_input(user_input:str):\n",
    "    # 初次調用判斷是否需要function calling\n",
    "\n",
    "    model= \"gemini-2.0-flash-exp\"\n",
    "    \n",
    "    prompt = '''1.請判斷使用者的輸入是否需要連線到「財務報表」資料庫查詢，若需要請回答finvision即可!\n",
    "                2.若使用者的輸入是關於分析財務指標，請返回analysis即可!\n",
    "                3.若都不屬於查詢與分析範圍，只要回答NO即可!\n",
    "                4.財務報表資料庫內容包含資產負債表、損益表、現金流量表，其餘公司資料都沒有。'''\n",
    "\n",
    "    content = [types.Content(parts=[\n",
    "            types.Part.from_text(prompt)\n",
    "            ], role=\"user\")\n",
    "            ]\n",
    "    \n",
    "    \n",
    "    response = client.models.generate_content(\n",
    "            model = model,\n",
    "            contents = content)\n",
    "    \n",
    "    \n",
    "    print('===== 初次調用GPT判斷 =====')\n",
    "    if 'finvision' in response.text:\n",
    "        sql_response = generate_sql_from_nl(user_input) \n",
    "        sql_query = extract_sql_queries(sql_response)\n",
    "        print(f'生成的SQL指令: {sql_query}') \n",
    "        # 執行GPT生成的SQL查詢 \n",
    "        report = query_database(sql_query)\n",
    "        print(f'查詢結果: {report}')\n",
    "        return(f\"finvision select :{report}\")\n",
    "\n",
    "    else: \n",
    "        # 一般對話處理\n",
    "        return(response.text)"
   ]
  },
  {
   "cell_type": "code",
   "execution_count": null,
   "metadata": {},
   "outputs": [],
   "source": [
    "def main():\n",
    "    user_input =\"請給我2023年各季度之利息收入、法定盈餘公積、銷貨收入\"\n",
    "    report = classify_user_input(user_input)\n",
    "    return(report)"
   ]
  },
  {
   "cell_type": "code",
   "execution_count": 7,
   "metadata": {},
   "outputs": [
    {
     "name": "stdout",
     "output_type": "stream",
     "text": [
      "===== 初次調用GPT判斷 =====\n",
      "回答:```sql\n",
      "SELECT\n",
      "    s.seasonsID,\n",
      "    pl.II AS interest_income,\n",
      "    bs.LR AS legal_surplus_reserve,\n",
      "    pl.NSR AS sales_revenue\n",
      "FROM\n",
      "    seasons s\n",
      "LEFT JOIN\n",
      "    bs ON s.seasonsID = bs.seasonsID\n",
      "LEFT JOIN\n",
      "    pl ON s.seasonsID = pl.seasonsID\n",
      "WHERE\n",
      "    SUBSTR(s.seasonsID, 1, 4) = '2023';\n",
      "```\n",
      "\n",
      "生成的SQL指令: [\"SELECT     s.seasonsID,     pl.II AS interest_income,     bs.LR AS legal_surplus_reserve,     pl.NSR AS sales_revenue FROM     seasons s LEFT JOIN     bs ON s.seasonsID = bs.seasonsID LEFT JOIN     pl ON s.seasonsID = pl.seasonsID WHERE     SUBSTR(s.seasonsID, 1, 4) = '2023';\"]\n",
      "連線成功\n",
      "查詢結果: [[{\"seasonsID\": \"202301\", \"interest_income\": 13617818, \"legal_surplus_reserve\": 311146899, \"sales_revenue\": 0}, {\"seasonsID\": \"202302\", \"interest_income\": 27289839, \"legal_surplus_reserve\": 311146899, \"sales_revenue\": 0}, {\"seasonsID\": \"202303\", \"interest_income\": 42885113, \"legal_surplus_reserve\": 311146899, \"sales_revenue\": 0}, {\"seasonsID\": \"202304\", \"interest_income\": 60293901, \"legal_surplus_reserve\": 311146899, \"sales_revenue\": 0}]]\n"
     ]
    },
    {
     "data": {
      "text/plain": [
       "'finvision select'"
      ]
     },
     "execution_count": 7,
     "metadata": {},
     "output_type": "execute_result"
    }
   ],
   "source": [
    "main()"
   ]
  },
  {
   "cell_type": "markdown",
   "metadata": {},
   "source": [
    "以下是一般對話連線測試"
   ]
  },
  {
   "cell_type": "code",
   "execution_count": 13,
   "metadata": {},
   "outputs": [],
   "source": [
    "def generate():\n",
    "    client = genai.Client(\n",
    "        vertexai=True,\n",
    "        project=\"gen-lang-client-0000496465\",\n",
    "        location=\"us-central1\"\n",
    "    )\n",
    "\n",
    "    model = \"gemini-2.0-flash-exp\"\n",
    "\n",
    "    contents = [types.Content(parts=[\n",
    "            types.Part.from_text(\"請問python是甚麼?\")\n",
    "        ], role=\"user\")\n",
    "    ]\n",
    "    generate_content_config = types.GenerateContentConfig(\n",
    "    temperature = 1,\n",
    "    top_p = 0.95,\n",
    "    max_output_tokens = 8192,\n",
    "    response_modalities = [\"TEXT\"])\n",
    "\n",
    "    response = client.models.generate_content(\n",
    "            model = model,\n",
    "            contents = contents,\n",
    "            config = generate_content_config)\n",
    "    return(response.text)"
   ]
  },
  {
   "cell_type": "code",
   "execution_count": 14,
   "metadata": {},
   "outputs": [
    {
     "name": "stdout",
     "output_type": "stream",
     "text": [
      "回覆:Python 是一種**高階、通用型的程式語言**，它以其**易讀性、簡潔的語法**和**強大的功能**而聞名。以下是 Python 的一些關鍵特點：\n",
      "\n",
      "**主要特點：**\n",
      "\n",
      "* **易於學習和閱讀：** Python 的語法非常接近英文，這使得它對初學者來說非常容易上手。它強調程式碼的可讀性，使用縮排來組織程式碼結構，而不是像其他語言那樣使用大括號。\n",
      "* **多用途：** Python 可以用於各種不同的應用領域，包括：\n",
      "    * **網頁開發：** 使用框架如 Django 和 Flask 來建立網站和 Web 應用程式。\n",
      "    * **資料科學與機器學習：** 擁有豐富的函式庫如 NumPy、Pandas、Scikit-learn 和 TensorFlow，使其成為資料分析、機器學習和人工智慧的首選語言。\n",
      "    * **自動化腳本：** 可以編寫腳本來自動執行重複性的任務，如檔案處理、網路管理等。\n",
      "    * **遊戲開發：** 可以使用 Pygame 等函式庫來開發簡單的遊戲。\n",
      "    * **科學計算與工程：** 可以使用 SciPy 等函式庫來進行數值計算、模擬和資料視覺化。\n",
      "    * **桌面應用程式：** 可以使用 Tkinter、PyQt 等函式庫來開發圖形使用者介面應用程式。\n",
      "* **直譯式語言：** Python 是一種直譯式語言，這意味著程式碼在執行時會逐行被翻譯成機器碼，不需要事先編譯。這使得開發過程更加快速和靈活。\n",
      "* **動態類型：** Python 是一種動態類型語言，這表示你不需要明確聲明變數的類型，變數的類型會在執行時自動推斷。\n",
      "* **大型標準函式庫：** Python 擁有一個非常豐富的標準函式庫，提供了許多內建的函數和模組，可以方便地完成各種任務，例如檔案處理、網路連線、資料庫操作等。\n",
      "* **開源且跨平台：** Python 是開源的，可以免費使用和修改。它也可以在不同的作業系統上運行，例如 Windows、macOS 和 Linux。\n",
      "* **龐大的社群：** Python 擁有一個龐大的活躍社群，提供了大量的教程、文件和支援，這使得學習和使用 Python 更加容易。\n",
      "\n",
      "**總結：**\n",
      "\n",
      "Python 是一種功能強大且用途廣泛的程式語言，它以其易讀性、靈活性和龐大的社群而聞名。無論你是初學者還是有經驗的開發人員，Python 都是一個非常值得學習的語言。\n",
      "\n",
      "**你可以把它想像成：**\n",
      "\n",
      "* **一把多功能工具刀：** 可以用來做很多不同的事情。\n",
      "* **一個積木：** 可以用來組裝各種不同的應用程式。\n",
      "* **一個翻譯器：** 可以將你的想法轉化為電腦可以理解的指令。\n",
      "\n",
      "如果你對程式設計感興趣，或者想學習一門實用的技能，Python 絕對是一個很好的選擇！\n",
      "\n",
      "希望以上說明對你有幫助！如果你有其他問題，歡迎隨時提問。\n",
      "\n"
     ]
    }
   ],
   "source": [
    "response = generate()\n",
    "print(f'回覆:{response}')"
   ]
  }
 ],
 "metadata": {
  "kernelspec": {
   "display_name": "project_env",
   "language": "python",
   "name": "python3"
  },
  "language_info": {
   "codemirror_mode": {
    "name": "ipython",
    "version": 3
   },
   "file_extension": ".py",
   "mimetype": "text/x-python",
   "name": "python",
   "nbconvert_exporter": "python",
   "pygments_lexer": "ipython3",
   "version": "3.9.8"
  }
 },
 "nbformat": 4,
 "nbformat_minor": 2
}
