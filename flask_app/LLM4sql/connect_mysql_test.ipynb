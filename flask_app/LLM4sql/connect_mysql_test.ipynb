{
 "cells": [
  {
   "cell_type": "code",
   "execution_count": 1,
   "metadata": {},
   "outputs": [],
   "source": [
    "import pymysql\n",
    "import pandas as pd\n",
    "import cryptography"
   ]
  },
  {
   "cell_type": "code",
   "execution_count": 2,
   "metadata": {},
   "outputs": [],
   "source": [
    "# 函數：連接到資料庫\n",
    "def connect_to_db(host, user, password, database):\n",
    "    try:\n",
    "        connection = pymysql.connect(\n",
    "            host=host,\n",
    "            user=user,\n",
    "            password=password,\n",
    "            database=database,\n",
    "            charset='utf8mb4',\n",
    "            cursorclass=pymysql.cursors.DictCursor\n",
    "        )\n",
    "        print(\"連線成功\")\n",
    "        return connection\n",
    "    except pymysql.MySQLError as e:\n",
    "        print(f\"帳密或資料庫、伺服器輸入錯誤: {e}\")\n",
    "        return None\n",
    "    except RuntimeError as e:\n",
    "        print(f\"RuntimeError: {e}\")\n",
    "        return None\n",
    "\n",
    "# 查詢函式\n",
    "def query_database(connection, query, params=None):\n",
    "    if connection is None:\n",
    "        return \"連接失敗，無法執行查詢\"\n",
    "    with connection.cursor() as cursor:\n",
    "        cursor.execute(query, params)\n",
    "        result = cursor.fetchall()\n",
    "        result = pd.DataFrame(result)\n",
    "    return result\n",
    "\n",
    "# 關閉連線\n",
    "def close_connection(connection):\n",
    "    if connection is not None:\n",
    "        connection.close()\n",
    "        print(\"資料庫連接已關閉。\")\n"
   ]
  },
  {
   "cell_type": "code",
   "execution_count": 3,
   "metadata": {},
   "outputs": [
    {
     "name": "stdout",
     "output_type": "stream",
     "text": [
      "連線成功\n",
      "    TABLE_NAME COLUMN_NAME\n",
      "0           bs   seasonsID\n",
      "1           bs        OPRP\n",
      "2           bs         PCC\n",
      "3           bs        PCCR\n",
      "4           bs        CITL\n",
      "..         ...         ...\n",
      "241         pl         NGP\n",
      "242         pl        PLBT\n",
      "243         pl      NPCO_2\n",
      "244    seasons   seasonsID\n",
      "245    seasons   seasons_w\n",
      "\n",
      "[246 rows x 2 columns]\n",
      "資料庫連接已關閉。\n"
     ]
    }
   ],
   "source": [
    "# 測試是否能成功連線並擷取欄位\n",
    "query = '''\n",
    "        SELECT table_name, column_name \n",
    "        FROM information_schema.columns \n",
    "        WHERE table_schema = DATABASE()\n",
    "        '''\n",
    "\n",
    "host = '127.0.0.1'\n",
    "user = 'root'\n",
    "password = 'xxxxxxxx'\n",
    "database = 'finvison'\n",
    "\n",
    "connect = connect_to_db(host, user, password, database)\n",
    "\n",
    "if connect: # 獲取表單和欄位資訊 \n",
    "        tables_and_columns = query_database(connect, query)\n",
    "        print(tables_and_columns) # 可以選擇將資訊保存為CSV文件 \n",
    "        tables_and_columns.to_csv('tables_and_columns.csv', index=False)\n",
    "\n",
    "close_connection(connect)"
   ]
  }
 ],
 "metadata": {
  "kernelspec": {
   "display_name": "Python [env: project_env]",
   "language": "python",
   "name": "project_env"
  },
  "language_info": {
   "codemirror_mode": {
    "name": "ipython",
    "version": 3
   },
   "file_extension": ".py",
   "mimetype": "text/x-python",
   "name": "python",
   "nbconvert_exporter": "python",
   "pygments_lexer": "ipython3",
   "version": "3.9.8"
  }
 },
 "nbformat": 4,
 "nbformat_minor": 2
}
