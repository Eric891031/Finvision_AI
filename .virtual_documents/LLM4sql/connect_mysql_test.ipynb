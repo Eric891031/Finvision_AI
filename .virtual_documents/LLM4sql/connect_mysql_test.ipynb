import pymysql
import pandas as pd
import cryptography


# 函數：連接到資料庫
def connect_to_db(host, user, password, database):
    try:
        connection = pymysql.connect(
            host=host,
            user=user,
            password=password,
            database=database,
            charset='utf8mb4',
            cursorclass=pymysql.cursors.DictCursor
        )
        print("連線成功")
        return connection
    except pymysql.MySQLError as e:
        print(f"帳密或資料庫、伺服器輸入錯誤: {e}")
        return None
    except RuntimeError as e:
        print(f"RuntimeError: {e}")
        return None

# 查詢函式
def query_database(connection, query, params=None):
    if connection is None:
        return "連接失敗，無法執行查詢"
    with connection.cursor() as cursor:
        cursor.execute(query, params)
        result = cursor.fetchall()
        result = pd.DataFrame(result)
    return result

# 關閉連線
def close_connection(connection):
    if connection is not None:
        connection.close()
        print("資料庫連接已關閉。")



# 測試是否能成功連線並擷取欄位
query = '''
        SELECT table_name, column_name 
        FROM information_schema.columns 
        WHERE table_schema = DATABASE()
        '''

host = '127.0.0.1'
user = 'root'
password = 'el89829603'
database = 'finvison'

connect = connect_to_db(host, user, password, database)

if connect: # 獲取表單和欄位資訊 
        tables_and_columns = query_database(connect, query)
        print(tables_and_columns) # 可以選擇將資訊保存為CSV文件 
        tables_and_columns.to_csv('tables_and_columns.csv', index=False)

close_connection(connect)
