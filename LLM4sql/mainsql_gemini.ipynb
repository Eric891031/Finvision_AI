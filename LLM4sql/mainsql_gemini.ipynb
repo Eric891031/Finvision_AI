{
 "cells": [
  {
   "cell_type": "code",
   "execution_count": 1,
   "metadata": {},
   "outputs": [
    {
     "name": "stderr",
     "output_type": "stream",
     "text": [
      "c:\\mypython\\project_env\\lib\\site-packages\\tqdm\\auto.py:21: TqdmWarning: IProgress not found. Please update jupyter and ipywidgets. See https://ipywidgets.readthedocs.io/en/stable/user_install.html\n",
      "  from .autonotebook import tqdm as notebook_tqdm\n"
     ]
    }
   ],
   "source": [
    "import google.generativeai as genai\n",
    "from db_utils import csv_read,query_database\n",
    "import re"
   ]
  },
  {
   "cell_type": "code",
   "execution_count": 2,
   "metadata": {},
   "outputs": [],
   "source": [
    "genai.configure(api_key=\"xxxxx\")"
   ]
  },
  {
   "cell_type": "code",
   "execution_count": 3,
   "metadata": {},
   "outputs": [
    {
     "name": "stdout",
     "output_type": "stream",
     "text": [
      "models/chat-bison-001\n",
      "models/text-bison-001\n",
      "models/embedding-gecko-001\n",
      "models/gemini-1.0-pro-latest\n",
      "models/gemini-1.0-pro\n",
      "models/gemini-pro\n",
      "models/gemini-1.0-pro-001\n",
      "models/gemini-1.0-pro-vision-latest\n",
      "models/gemini-pro-vision\n",
      "models/gemini-1.5-pro-latest\n",
      "models/gemini-1.5-pro-001\n",
      "models/gemini-1.5-pro-002\n",
      "models/gemini-1.5-pro\n",
      "models/gemini-1.5-pro-exp-0801\n",
      "models/gemini-1.5-pro-exp-0827\n",
      "models/gemini-1.5-flash-latest\n",
      "models/gemini-1.5-flash-001\n",
      "models/gemini-1.5-flash-001-tuning\n",
      "models/gemini-1.5-flash\n",
      "models/gemini-1.5-flash-exp-0827\n",
      "models/gemini-1.5-flash-002\n",
      "models/gemini-1.5-flash-8b\n",
      "models/gemini-1.5-flash-8b-001\n",
      "models/gemini-1.5-flash-8b-latest\n",
      "models/gemini-1.5-flash-8b-exp-0827\n",
      "models/gemini-1.5-flash-8b-exp-0924\n",
      "models/gemini-2.0-flash-exp\n",
      "models/gemini-exp-1206\n",
      "models/gemini-exp-1121\n",
      "models/gemini-exp-1114\n",
      "models/gemini-2.0-flash-thinking-exp\n",
      "models/gemini-2.0-flash-thinking-exp-1219\n",
      "models/learnlm-1.5-pro-experimental\n",
      "models/embedding-001\n",
      "models/text-embedding-004\n",
      "models/aqa\n"
     ]
    }
   ],
   "source": [
    "for model in genai.list_models():\n",
    "   print(model.name)"
   ]
  },
  {
   "cell_type": "code",
   "execution_count": 4,
   "metadata": {},
   "outputs": [],
   "source": [
    "def generate_sql_from_nl(user_input):\n",
    "    csv_string = csv_read()\n",
    "    system_prompt = f'''\n",
    "        1. 你是一個財務資料庫專家，能夠生成相應的SQL指令。 \n",
    "        2. SQL的編寫請用全英文。\n",
    "        3. 非常重要!返回sql語法即可，不用其他說明與文字。\n",
    "        4. MYSQL code中請不要出現資料庫中沒有的英文名稱。\n",
    "        5. 請務必生成完整SQL語法，並一定要在首欄加入年或季度的欄位，例如seasonid。\n",
    "       '''\n",
    "\n",
    "    user_prompt = f'''\n",
    "        1.資料庫結構、表名稱、欄位名稱請務必參考以下內容:{csv_string}\n",
    "        2.一定不能生成沒有的sql表名與欄名，欄位名稱請盡量比對中文對照!\n",
    "        3.請務必要判斷是否需要跨表查詢，如需要請使用join指令。\n",
    "        4.另外時間只有年與季度seasonsID，例如2010年第一季格式為201001、2010年第二季格式為201002、\n",
    "        2020年第三季格式為202003、2020年第四季格式為202004\n",
    "                   '''\n",
    "    model=genai.GenerativeModel(model_name=\"gemini-1.5-pro\")\n",
    "\n",
    "    prompt_content = [\n",
    "        {\"role\": \"user\", \"parts\": [system_prompt]},\n",
    "        {\"role\": \"user\", \"parts\": [user_input + user_prompt]}\n",
    "    ]\n",
    "    response = model.generate_content(\n",
    "        contents = prompt_content,\n",
    "        generation_config = genai.types.GenerationConfig(\n",
    "            max_output_tokens=150,\n",
    "            temperature=0.1\n",
    "        )\n",
    "    )\n",
    "    sql_response = response.text\n",
    "    print(f\"回答:{sql_response}\")\n",
    "    return sql_response\n"
   ]
  },
  {
   "cell_type": "markdown",
   "metadata": {},
   "source": [
    "模型可用系列:GPT、Gemini"
   ]
  },
  {
   "cell_type": "markdown",
   "metadata": {},
   "source": [
    "測試生成sql，gemini pro生成結果比較精簡，速度快。gpt4omini比較能判斷複雜sql欄位，抓取正確欄位。"
   ]
  },
  {
   "cell_type": "code",
   "execution_count": 5,
   "metadata": {},
   "outputs": [],
   "source": [
    "def extract_sql_queries(sql_response):\n",
    "    matches = re.findall(r'SELECT.*?;', sql_response, re.IGNORECASE | re.DOTALL) \n",
    "    if matches:\n",
    "        # 移除每個匹配項中的換行符號 \n",
    "        matches = [match.replace('\\n', ' ') for match in matches]\n",
    "        return matches \n",
    "    else: \n",
    "        raise ValueError(\"SQL查詢指令未找到\")"
   ]
  },
  {
   "cell_type": "code",
   "execution_count": 6,
   "metadata": {},
   "outputs": [],
   "source": [
    "def main():\n",
    "    user_input =\"請給我2023年各季度之利息收入、法定盈餘公積、銷貨收入 \"   #input(\"請輸入內容: \") \n",
    "    # 初次調用GPT判斷是否需要function calling\n",
    "\n",
    "    model=genai.GenerativeModel(model_name=\"gemini-1.5-pro\")\n",
    "    prompt_content = [\n",
    "        {\"role\": \"user\", \n",
    "         \"parts\":'''1.請判斷使用者的輸入是否需要連線到「財務報表」資料庫查詢，若需要請回答finvision即可!\n",
    "                    2.若使用者的輸入是關於分析財務指標，請返回analysis即可!\n",
    "                    3.若都不屬於查詢與分析範圍，只要回答NO即可!\n",
    "                    4.財務報表資料庫內容包含資產負債表、損益表、現金流量表，其餘公司資料都沒有。'''},\n",
    "        {\"role\": \"user\", \"parts\": user_input}\n",
    "    ]\n",
    "    \n",
    "    \n",
    "    response = model.generate_content(contents = prompt_content)\n",
    "    \n",
    "    \n",
    "    print('===== 初次調用GPT判斷 =====')\n",
    "    if 'finvision' in response.text:\n",
    "        sql_response = generate_sql_from_nl(user_input) \n",
    "        sql_query = extract_sql_queries(sql_response)\n",
    "        print(f'生成的SQL指令: {sql_query}') \n",
    "        # 執行GPT生成的SQL查詢 \n",
    "        report = query_database(sql_query)\n",
    "        print(f'查詢結果: {report}')\n",
    "        return(f\"finvision select :{report}\")\n",
    "\n",
    "    else: \n",
    "        # 一般對話處理\n",
    "        return(response.text)\n",
    "         \n"
   ]
  },
  {
   "cell_type": "code",
   "execution_count": 7,
   "metadata": {},
   "outputs": [
    {
     "name": "stdout",
     "output_type": "stream",
     "text": [
      "===== 初次調用GPT判斷 =====\n",
      "回答:```sql\n",
      "SELECT\n",
      "    s.seasonsID,\n",
      "    SUM(pl.II) AS interest_income,\n",
      "    SUM(bs.LR) AS legal_reserve,\n",
      "    SUM(pl.NSR) AS sales_revenue\n",
      "FROM\n",
      "    pl\n",
      "JOIN\n",
      "    bs ON pl.seasonsID = bs.seasonsID\n",
      "JOIN\n",
      "    seasons s ON pl.seasonsID = s.seasonsID\n",
      "WHERE\n",
      "    s.seasonsID LIKE '2023%'\n",
      "GROUP BY\n",
      "    s.seasonsID;\n",
      "```\n",
      "生成的SQL指令: [\"SELECT     s.seasonsID,     SUM(pl.II) AS interest_income,     SUM(bs.LR) AS legal_reserve,     SUM(pl.NSR) AS sales_revenue FROM     pl JOIN     bs ON pl.seasonsID = bs.seasonsID JOIN     seasons s ON pl.seasonsID = s.seasonsID WHERE     s.seasonsID LIKE '2023%' GROUP BY     s.seasonsID;\"]\n",
      "連線成功\n",
      "查詢結果: [[{\"seasonsID\": \"202301\", \"interest_income\": 13617818.0, \"legal_reserve\": 311146899.0, \"sales_revenue\": 0.0}, {\"seasonsID\": \"202302\", \"interest_income\": 27289839.0, \"legal_reserve\": 311146899.0, \"sales_revenue\": 0.0}, {\"seasonsID\": \"202303\", \"interest_income\": 42885113.0, \"legal_reserve\": 311146899.0, \"sales_revenue\": 0.0}, {\"seasonsID\": \"202304\", \"interest_income\": 60293901.0, \"legal_reserve\": 311146899.0, \"sales_revenue\": 0.0}]]\n"
     ]
    },
    {
     "data": {
      "text/plain": [
       "'finvision select'"
      ]
     },
     "execution_count": 7,
     "metadata": {},
     "output_type": "execute_result"
    }
   ],
   "source": [
    "main()"
   ]
  }
 ],
 "metadata": {
  "kernelspec": {
   "display_name": "project_env",
   "language": "python",
   "name": "python3"
  },
  "language_info": {
   "codemirror_mode": {
    "name": "ipython",
    "version": 3
   },
   "file_extension": ".py",
   "mimetype": "text/x-python",
   "name": "python",
   "nbconvert_exporter": "python",
   "pygments_lexer": "ipython3",
   "version": "3.9.8"
  }
 },
 "nbformat": 4,
 "nbformat_minor": 2
}
