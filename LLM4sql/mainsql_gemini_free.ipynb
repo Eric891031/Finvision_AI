{
 "cells": [
  {
   "cell_type": "code",
   "execution_count": 1,
   "metadata": {},
   "outputs": [],
   "source": [
    "from openai import OpenAI\n",
    "from g4f.client import Client\n",
    "from db_utils import csv_read,query_database\n",
    "import re\n",
    "import pandas as pd"
   ]
  },
  {
   "cell_type": "code",
   "execution_count": 2,
   "metadata": {},
   "outputs": [],
   "source": [
    "client = Client()"
   ]
  },
  {
   "cell_type": "code",
   "execution_count": 3,
   "metadata": {},
   "outputs": [],
   "source": [
    "def generate_sql_from_nl(user_input):\n",
    "    csv_string = csv_read()\n",
    "    system_prompt = f'''\n",
    "        1. 你是一個財務資料庫專家，能夠生成相應的SQL指令。 \n",
    "        2. SQL的編寫請用全英文。\n",
    "        3. 非常重要!返回sql語法即可，不用其他說明與文字。\n",
    "        4. MYSQL code中請不要出現資料庫中沒有的英文名稱。\n",
    "        5. 請務必生成完整SQL語法。\n",
    "       '''\n",
    "\n",
    "    user_prompt = f'''\n",
    "        1.資料庫結構、表名稱、欄位名稱請務必參考以下內容:{csv_string}\n",
    "        2.一定不能生成沒有的sql表名與欄名，欄位名稱請盡量比對中文對照!\n",
    "        3.請務必要判斷是否需要跨表查詢，如需要請使用join指令。\n",
    "        4.另外日期只有年與季度，例如2010第一季格式為201001、2010第二季格式為201002、\n",
    "        2020第三季格式為202003、2020第四季格式為202004\n",
    "                   '''\n",
    "    response = client.chat.completions.create(\n",
    "        model=\"gemini-pro\",\n",
    "        messages=[\n",
    "            {\"role\": \"system\", \"content\": system_prompt},\n",
    "            {\"role\": \"user\", \"content\": user_input + user_prompt}\n",
    "        ],\n",
    "        max_tokens=150,\n",
    "        temperature=0.1\n",
    "    )\n",
    "    sql_response = response.choices[0].message.content\n",
    "    print(f\"回答:{sql_response}\")\n",
    "    return sql_response\n"
   ]
  },
  {
   "cell_type": "markdown",
   "metadata": {},
   "source": [
    "模型可用系列:GPT、Gemini"
   ]
  },
  {
   "cell_type": "markdown",
   "metadata": {},
   "source": [
    "測試生成sql，gemini pro生成結果比較精簡，速度快。gpt4omini比較能判斷複雜sql欄位，抓取正確欄位。"
   ]
  },
  {
   "cell_type": "code",
   "execution_count": 4,
   "metadata": {},
   "outputs": [],
   "source": [
    "def extract_sql_queries(sql_response):\n",
    "    matches = re.findall(r'SELECT.*?;', sql_response, re.IGNORECASE | re.DOTALL) \n",
    "    if matches:\n",
    "        # 移除每個匹配項中的換行符號 \n",
    "        matches = [match.replace('\\n', ' ') for match in matches]\n",
    "        return matches \n",
    "    else: \n",
    "        raise ValueError(\"SQL查詢指令未找到\")"
   ]
  },
  {
   "cell_type": "code",
   "execution_count": 5,
   "metadata": {},
   "outputs": [],
   "source": [
    "def main():\n",
    "    user_input =\"請給我201902年之利息收入、法定盈餘公積、銷貨收入 \"   #input(\"請輸入內容: \") \n",
    "    # 初次調用GPT判斷是否需要function calling \n",
    "    response_1 = client.chat.completions.create( model=\"gemini-pro\", \n",
    "                                                messages=[\n",
    "                                                {\"role\": \"system\", \n",
    "                                                 \"content\":'''1.請判斷使用者的輸入是否需要連線到「財務報表」資料庫查詢，若需要請回答finvision即可!\n",
    "                                                              2.若使用者的輸入是關於分析財務指標，請返回analysis即可!\n",
    "                                                              3.若都不屬於查詢與分析範圍，只要回答NO即可!\n",
    "                                                              4.財務報表資料庫內容包含資產負債表、損益表、現金流量表，其餘公司資料都沒有。'''},\n",
    "                                                {\"role\": \"user\", \"content\": user_input}])\n",
    "    \n",
    "    print('===== 初次調用GPT判斷 =====')\n",
    "    if 'finvision' in response_1.choices[0].message.content:\n",
    "        sql_response = generate_sql_from_nl(user_input) \n",
    "        sql_query = extract_sql_queries(sql_response)\n",
    "        print(f'生成的SQL指令: {sql_query}') \n",
    "        # 執行GPT生成的SQL查詢 \n",
    "        result = query_database(sql_query)\n",
    "        print(f'查詢結果: {result}')\n",
    "        return(\"finvision select\")\n",
    "\n",
    "    else: \n",
    "        # 一般對話處理\n",
    "        return(response_1.choices[0].message.content)\n",
    "         \n"
   ]
  },
  {
   "cell_type": "code",
   "execution_count": 7,
   "metadata": {},
   "outputs": [
    {
     "name": "stdout",
     "output_type": "stream",
     "text": [
      "===== 初次調用GPT判斷 =====\n",
      "回答:```sql\n",
      "SELECT pl.II AS 利息收入, bs.LR AS 法定盈餘公積, pl.NSR AS 銷貨收入\n",
      "FROM pl\n",
      "INNER JOIN bs ON pl.seasonsID = bs.seasonsID\n",
      "INNER JOIN seasons ON pl.seasonsID = seasons.seasonsID\n",
      "WHERE seasons.seasonsID LIKE '201902%';\n",
      "```\n",
      "生成的SQL指令: [\"SELECT pl.II AS 利息收入, bs.LR AS 法定盈餘公積, pl.NSR AS 銷貨收入 FROM pl INNER JOIN bs ON pl.seasonsID = bs.seasonsID INNER JOIN seasons ON pl.seasonsID = seasons.seasonsID WHERE seasons.seasonsID LIKE '201902%';\"]\n",
      "連線成功\n",
      "查詢結果: [[{\"利息收入\": 0, \"法定盈餘公積\": 311146899, \"銷貨收入\": 0}]]\n"
     ]
    },
    {
     "data": {
      "text/plain": [
       "'finvision select'"
      ]
     },
     "execution_count": 7,
     "metadata": {},
     "output_type": "execute_result"
    }
   ],
   "source": [
    "main()"
   ]
  }
 ],
 "metadata": {
  "kernelspec": {
   "display_name": "Python [env: project_env]",
   "language": "python",
   "name": "project_env"
  },
  "language_info": {
   "codemirror_mode": {
    "name": "ipython",
    "version": 3
   },
   "file_extension": ".py",
   "mimetype": "text/x-python",
   "name": "python",
   "nbconvert_exporter": "python",
   "pygments_lexer": "ipython3",
   "version": "3.9.8"
  }
 },
 "nbformat": 4,
 "nbformat_minor": 2
}
