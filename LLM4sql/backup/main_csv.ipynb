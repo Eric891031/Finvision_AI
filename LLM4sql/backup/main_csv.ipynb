{
 "cells": [
  {
   "cell_type": "code",
   "execution_count": 74,
   "metadata": {},
   "outputs": [],
   "source": [
    "from openai import OpenAI\n",
    "from g4f.client import Client\n",
    "from db_utils import csv_read,query_database\n",
    "import re\n",
    "import pandas as pd"
   ]
  },
  {
   "cell_type": "code",
   "execution_count": 75,
   "metadata": {},
   "outputs": [],
   "source": [
    "client = Client()"
   ]
  },
  {
   "cell_type": "code",
   "execution_count": 76,
   "metadata": {},
   "outputs": [],
   "source": [
    "def generate_sql_from_nl(user_input):\n",
    "    csv_string = csv_read()\n",
    "    system_prompt = f''''\n",
    "        1. 你是一個資料庫專家，能夠生成相應的SQL指令。 \n",
    "        2. SQL的編寫請用全英文。\n",
    "        3. 非常重要!返回sql語法即可，不用其他說明與文字。\n",
    "        4. MYSQL code中請不要出現沒有的英文名稱。\n",
    "        '''\n",
    "\n",
    "    user_prompt = f'''\n",
    "        資料庫結構、表名稱、欄位名稱請參考以下內容:{csv_string}\n",
    "                    '''\n",
    "    response = client.chat.completions.create(\n",
    "        model=\"gpt-4o\",\n",
    "        messages=[\n",
    "            {\"role\": \"system\", \"content\": system_prompt},\n",
    "            {\"role\": \"user\", \"content\": user_input + user_prompt}\n",
    "        ],\n",
    "        max_tokens=150,\n",
    "        temperature=0.1\n",
    "    )\n",
    "    sql_response = response.choices[0].message.content\n",
    "    return sql_response\n"
   ]
  },
  {
   "cell_type": "code",
   "execution_count": 77,
   "metadata": {},
   "outputs": [],
   "source": [
    "def extract_sql_query(sql_response): \n",
    "    match = re.search(r'SELECT.*', sql_response, re.IGNORECASE) \n",
    "    if match: \n",
    "        return match.group() \n",
    "    else: \n",
    "        raise ValueError(\"SQL查詢指令未找到\")"
   ]
  },
  {
   "cell_type": "code",
   "execution_count": 78,
   "metadata": {},
   "outputs": [
    {
     "name": "stdout",
     "output_type": "stream",
     "text": [
      "===== 初次調用GPT判斷 =====\n",
      "生成的SQL指令: SELECT ENAME, EMPNO FROM emp;\n",
      "連線成功\n",
      "查詢結果: [{\"ENAME\": \"ADAMS\", \"EMPNO\": 7876}, {\"ENAME\": \"ALLEN\", \"EMPNO\": 7499}, {\"ENAME\": \"BLAKE\", \"EMPNO\": 7698}, {\"ENAME\": \"CLARK\", \"EMPNO\": 7782}, {\"ENAME\": \"FORD\", \"EMPNO\": 7902}, {\"ENAME\": \"JAMES\", \"EMPNO\": 7900}, {\"ENAME\": \"JONES\", \"EMPNO\": 7566}, {\"ENAME\": \"KING\", \"EMPNO\": 7839}, {\"ENAME\": \"MARTIN\", \"EMPNO\": 7654}, {\"ENAME\": \"MILLER\", \"EMPNO\": 7934}, {\"ENAME\": \"SCOTT\", \"EMPNO\": 7788}, {\"ENAME\": \"SMITH\", \"EMPNO\": 7369}, {\"ENAME\": \"TURNER\", \"EMPNO\": 7844}, {\"ENAME\": \"WARD\", \"EMPNO\": 7521}]\n"
     ]
    },
    {
     "name": "stderr",
     "output_type": "stream",
     "text": [
      "C:\\Users\\TMP214\\AppData\\Local\\Programs\\Python\\Python39\\lib\\asyncio\\events.py:80: UserWarning: Curlm alread closed! quitting from process_data\n",
      "  self._context.run(self._callback, *self._args)\n"
     ]
    }
   ],
   "source": [
    "if __name__ == \"__main__\":\n",
    "    user_input =\"請幫我查詢員工的姓名、編號資料\"   #input(\"請輸入內容: \") \n",
    "    # 初次調用GPT判斷是否需要function \n",
    "    response_1 = client.chat.completions.create( model=\"gpt-4o-mini\", \n",
    "                                                messages=[\n",
    "                                                {\"role\": \"system\", \n",
    "                                                 \"content\":\"請判斷使用者輸入是否需要連線到資料庫查詢，若需要請回答YES即可!若不需要則正常對話\"},\n",
    "                                                {\"role\": \"user\", \"content\": user_input}])\n",
    "    \n",
    "    print('===== 初次調用GPT判斷 =====')\n",
    "    if 'YES' in response_1.choices[0].message.content:\n",
    "        sql_response = generate_sql_from_nl(user_input) \n",
    "        sql_query = extract_sql_query(sql_response)\n",
    "        print(f'生成的SQL指令: {sql_query}') \n",
    "        # 執行GPT生成的SQL查詢 \n",
    "        result = query_database(sql_query)\n",
    "        print(f'查詢結果: {result}')\n",
    "\n",
    "    else: \n",
    "        # 一般對話處理\n",
    "        print(response_1.choices[0].message.content )\n",
    "         \n"
   ]
  }
 ],
 "metadata": {
  "kernelspec": {
   "display_name": "project_env",
   "language": "python",
   "name": "python3"
  },
  "language_info": {
   "codemirror_mode": {
    "name": "ipython",
    "version": 3
   },
   "file_extension": ".py",
   "mimetype": "text/x-python",
   "name": "python",
   "nbconvert_exporter": "python",
   "pygments_lexer": "ipython3",
   "version": "3.9.8"
  }
 },
 "nbformat": 4,
 "nbformat_minor": 2
}
