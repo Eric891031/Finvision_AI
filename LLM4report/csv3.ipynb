{
 "cells": [
  {
   "cell_type": "code",
   "execution_count": 8,
   "metadata": {},
   "outputs": [],
   "source": [
    "import pandas as pd\n",
    "from g4f.client import Client\n",
    "import re"
   ]
  },
  {
   "cell_type": "code",
   "execution_count": 9,
   "metadata": {},
   "outputs": [],
   "source": [
    "def load_data(file_path: str) -> pd.DataFrame:\n",
    "    \"\"\"\n",
    "    加載 CSV 文件並處理錯誤行。\n",
    "    \"\"\"\n",
    "    try:\n",
    "        return pd.read_csv(file_path, on_bad_lines=\"skip\", encoding=\"utf-8\")\n",
    "    except pd.errors.ParserError as e:\n",
    "        raise Exception(f\"CSV 文件解析錯誤：{e}\")\n",
    "    except Exception as e:\n",
    "        raise Exception(f\"讀取數據時發生錯誤：{e}\")\n"
   ]
  },
  {
   "cell_type": "code",
   "execution_count": 10,
   "metadata": {},
   "outputs": [],
   "source": [
    "def generate_summary_statistics(data):\n",
    "    \"\"\"\n",
    "    生成資料的描述性統計量。\n",
    "\n",
    "    Args:\n",
    "        data (DataFrame): 輸入資料框。\n",
    "\n",
    "    Returns:\n",
    "        DataFrame: 描述性統計量。\n",
    "    \"\"\"\n",
    "    return data.describe()"
   ]
  },
  {
   "cell_type": "code",
   "execution_count": 11,
   "metadata": {},
   "outputs": [],
   "source": [
    "def construct_prompt(user_input, summary_stats):\n",
    "    \"\"\"\n",
    "    根據用戶輸入與數據描述生成分析 Prompt。\n",
    "\n",
    "    Args:\n",
    "        user_input (str): 用戶的自然語言查詢。\n",
    "        summary_stats (DataFrame): 數據的描述性統計量。\n",
    "\n",
    "    Returns:\n",
    "        tuple: 系統提示與用戶提示。\n",
    "    \"\"\"\n",
    "    system_prompt =(\"你是一位專業的數據科學家，擅長分析數據並從中提取見解。\"\n",
    "        \"以下是一些描述性統計數據，請根據這些數據提供深入分析和建議：\\n\"\n",
    "        \"1. 描述數據的整體特性，例如平均值、標準差、數據分佈等。\\n\"\n",
    "        \"2. 尋找可能的異常值或數據問題，並評估其對分析結果的影響。\\n\"\n",
    "        \"3. 如果有類別型數據，請分析其分佈特性和可能的相關性。\\n\"\n",
    "        \"4. 根據數據，提供有助於業務決策的具體建議，例如潛在的改進方向或應關注的特定領域。\\n\"\n",
    "        \"5. 將您的分析結論簡潔清楚地表達，並建議下一步的數據收集或分析方向。\")\n",
    "    \n",
    "\n",
    "    \n",
    "    user_prompt = (\n",
    "        f\"以下是數據的描述性統計結果：\\n{summary_stats.to_string()}\\n\"\n",
    "        f\"請根據此數據回答以下問題：{user_input}\"\n",
    "    )\n",
    "    return system_prompt, user_prompt"
   ]
  },
  {
   "cell_type": "code",
   "execution_count": 12,
   "metadata": {},
   "outputs": [],
   "source": [
    "def generate_report(user_input, csv_file_path):\n",
    "    \"\"\"\n",
    "    從自然語言查詢生成分析報告。\n",
    "\n",
    "    Args:\n",
    "        user_input (str): 用戶的自然語言查詢。\n",
    "        csv_file_path (str): CSV 檔案路徑。\n",
    "\n",
    "    Returns:\n",
    "        str: 生成的分析報告。\n",
    "    \"\"\"\n",
    "    try:\n",
    "        # 加載數據\n",
    "        data = load_data(csv_file_path)\n",
    "\n",
    "        # 生成統計摘要\n",
    "        summary_stats = generate_summary_statistics(data)\n",
    "\n",
    "        # 構建提示\n",
    "        system_prompt, user_prompt = construct_prompt(user_input, summary_stats)\n",
    "\n",
    "        # 初始化 GPT 客戶端\n",
    "        client = Client()\n",
    "\n",
    "        # GPT 請求生成\n",
    "        response = client.chat.completions.create(\n",
    "            model=\"gpt-4o-mini\",\n",
    "            messages=[\n",
    "                {\"role\": \"system\", \"content\": system_prompt},\n",
    "                {\"role\": \"user\", \"content\": user_prompt}\n",
    "            ],\n",
    "            temperature=0.1\n",
    "        )\n",
    "        return response.choices[0].message.content\n",
    "\n",
    "    except Exception as e:\n",
    "        return f\"生成報告時發生錯誤：{e}\"\n"
   ]
  },
  {
   "cell_type": "code",
   "execution_count": 13,
   "metadata": {},
   "outputs": [
    {
     "name": "stdout",
     "output_type": "stream",
     "text": [
      "根據您提供的描述性統計數據，我們可以進行以下分析：\n",
      "\n",
      "### 1. 整體特性分析\n",
      "- **數據計數 (count)**: 這裡的數據計數為3，表示我們有3個觀察值。\n",
      "- **唯一值 (unique)**: 3，這意味著所有的觀察值都是獨特的，沒有重複的數據。\n",
      "- **最常見的資料日期 (top)**: 資料日期為113/12/23，這是唯一的日期，顯示我們的數據集中只有一個日期的數據。\n",
      "- **頻率 (freq)**: 1，表示該日期的數據出現一次。\n",
      "\n",
      "由於數據集非常小且只有一個日期的數據，無法計算平均值、標準差或數據分佈等統計指標。\n",
      "\n",
      "### 2. 異常值或數據問題\n",
      "由於數據集僅包含3個觀察值，且每個觀察值都是獨特的，因此無法進行異常值檢測。這樣的小數據集可能會導致分析結果不具代表性，並且無法得出可靠的結論。\n",
      "\n",
      "### 3. 類別型數據分析\n",
      "在這個數據集中，類別型數據的分析受到限制，因為我們只有一個日期的數據。無法評估類別型數據的分佈特性或相關性。\n",
      "\n",
      "### 4. 業務決策建議\n",
      "- **數據收集**: 建議擴大數據集，收集更多日期的數據，以便進行更全面的分析。這將有助於計算平均值、標準差等統計指標，並能夠識別趨勢和模式。\n",
      "- **關注指標**: 在收集更多數據時，應特別關注本益比、殖利率和股價淨值比的變化，這些指標對於評估股票的投資價值至關重要。\n",
      "\n",
      "### 5. 總結與下一步建議\n",
      "目前的數據集過於有限，無法進行深入分析。建議下一步行動是收集更多的數據，特別是不同日期的本益比、殖利率和股價淨值比，以便進行更全面的描述性統計分析和趨勢評估。這將有助於做出更明智的業務決策。\n"
     ]
    }
   ],
   "source": [
    "if __name__ == \"__main__\":\n",
    "    csv_file = \".\\csv.ingredient\\pera_1131223.csv\"\n",
    "    user_query = \"分析此數據並給出建議。\"\n",
    "    report = generate_report(user_query, csv_file)\n",
    "    print(report)\n"
   ]
  }
 ],
 "metadata": {
  "kernelspec": {
   "display_name": "Python 3",
   "language": "python",
   "name": "python3"
  },
  "language_info": {
   "codemirror_mode": {
    "name": "ipython",
    "version": 3
   },
   "file_extension": ".py",
   "mimetype": "text/x-python",
   "name": "python",
   "nbconvert_exporter": "python",
   "pygments_lexer": "ipython3",
   "version": "3.10.10"
  }
 },
 "nbformat": 4,
 "nbformat_minor": 2
}
