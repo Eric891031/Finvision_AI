{
 "cells": [
  {
   "cell_type": "code",
   "execution_count": 15,
   "metadata": {},
   "outputs": [],
   "source": [
    "import pandas as pd\n",
    "from g4f.client import Client\n",
    "import re"
   ]
  },
  {
   "cell_type": "code",
   "execution_count": 16,
   "metadata": {},
   "outputs": [],
   "source": [
    "def load_data(file_path: str) -> pd.DataFrame:\n",
    "    \"\"\"\n",
    "    加載 CSV 文件並處理錯誤行。\n",
    "    \"\"\"\n",
    "    try:\n",
    "        return pd.read_csv(file_path, on_bad_lines=\"skip\", encoding=\"utf-8\")\n",
    "    except pd.errors.ParserError as e:\n",
    "        raise Exception(f\"CSV 文件解析錯誤：{e}\")\n",
    "    except Exception as e:\n",
    "        raise Exception(f\"讀取數據時發生錯誤：{e}\")\n",
    "\n"
   ]
  },
  {
   "cell_type": "code",
   "execution_count": 17,
   "metadata": {},
   "outputs": [],
   "source": [
    "def generate_summary(data: pd.DataFrame):\n",
    "    \"\"\"\n",
    "    生成數據描述性統計。\n",
    "    Args:\n",
    "        data (pd.DataFrame): 輸入數據框。\n",
    "    Returns:\n",
    "        pd.DataFrame: 描述性統計。\n",
    "    \"\"\"\n",
    "    try:\n",
    "        return data.describe()\n",
    "    except Exception as e:\n",
    "        raise Exception(f\"生成描述性統計時發生錯誤：{e}\")"
   ]
  },
  {
   "cell_type": "code",
   "execution_count": 18,
   "metadata": {},
   "outputs": [],
   "source": [
    "def construct_prompt(user_input: str, summary_stats: pd.DataFrame) -> tuple:\n",
    "    \"\"\"\n",
    "    構建系統與用戶提示。\n",
    "    Args:\n",
    "        user_input (str): 用戶查詢。\n",
    "        summary_stats (pd.DataFrame): 描述性統計。\n",
    "    Returns:\n",
    "        tuple: (系統提示, 用戶提示)\n",
    "    \"\"\"\n",
    "    system_prompt = (\n",
    "        \"你是一位專業的數據科學家，擅長分析數據並從中提取見解。\"\n",
    "        \"以下是一些統計數據，請根據這些數據提供深入分析和建議：\\n\"\n",
    "        \"1. 描述數據的整體特性，例如平均值、標準差、數據分佈等。\\n\"\n",
    "        \"2. 尋找可能的異常值或數據問題，並評估其對分析結果的影響。\\n\"\n",
    "        \"3. 如果有類別型數據，請分析其分佈特性和可能的相關性。\\n\"\n",
    "        \"4. 根據數據，提供有助於業務決策的具體建議，例如潛在的改進方向或應關注的特定方向。\\n\"\n",
    "        \"5. 將您的分析結論簡潔清楚地表達，並建議下一步的數據收集或分析方向。\"\n",
    "    )\n",
    "    user_prompt = (\n",
    "        f\"以下是數據的描述性統計結果：\\n{summary_stats.to_string()}\\n\"\n",
    "        f\"請根據這些數據回答以下問題：{user_input}\"\n",
    "    )\n",
    "    return system_prompt, user_prompt\n"
   ]
  },
  {
   "cell_type": "code",
   "execution_count": 19,
   "metadata": {},
   "outputs": [],
   "source": [
    "def generate_report(file_path: str, user_input: str) -> str:\n",
    "    \"\"\"\n",
    "    基於自然語言查詢生成分析報告。\n",
    "    Args:\n",
    "        file_path (str): 數據文件路徑。\n",
    "        user_input (str): 用戶的自然語言查詢。\n",
    "    Returns:\n",
    "        str: 分析報告或錯誤信息。\n",
    "    \"\"\"\n",
    "    try:\n",
    "        # 1. 加載數據\n",
    "        data = load_data(file_path)\n",
    "\n",
    "        # 2. 生成描述性統計\n",
    "        summary_stats = generate_summary(data)\n",
    "\n",
    "        # 3. 構建 GPT 模型請求的提示\n",
    "        system_prompt, user_prompt = construct_prompt(user_input, summary_stats)\n",
    "\n",
    "        # 4. 初始化 GPT 客戶端並生成報告\n",
    "        client = Client()\n",
    "        response = client.chat.completions.create(\n",
    "            model=\"gpt-4o-mini\",\n",
    "            messages=[\n",
    "                {\"role\": \"system\", \"content\": system_prompt},\n",
    "                {\"role\": \"user\", \"content\": user_prompt},\n",
    "            ],\n",
    "            temperature=0.1,\n",
    "        )\n",
    "        return response.choices[0].message.content.strip()\n",
    "    except Exception as e:\n",
    "        return f\"生成報告時發生錯誤：{e}\"\n",
    "\n"
   ]
  },
  {
   "cell_type": "code",
   "execution_count": 1,
   "metadata": {},
   "outputs": [
    {
     "name": "stdout",
     "output_type": "stream",
     "text": [
      "程序運行失敗：name 'generate_report' is not defined\n"
     ]
    }
   ],
   "source": [
    "if __name__ == \"__main__\":\n",
    "    # 示例使用\n",
    "    file_path = file_path = r\".\\csv.ingredient\\tsmc_operating_profit_margin_2010_2023.csv\"\n",
    "\n",
    "    user_query = \"請分析數據並提供詳細的見解和建議，並提供報告。\"  # 自然語言查詢\n",
    "\n",
    "    try:\n",
    "        report = generate_report(file_path, user_query)\n",
    "        print(\"生成的報告：\")\n",
    "        print(report)\n",
    "    except Exception as e:\n",
    "        print(f\"程序運行失敗：{e}\")"
   ]
  }
 ],
 "metadata": {
  "kernelspec": {
   "display_name": "Python 3",
   "language": "python",
   "name": "python3"
  },
  "language_info": {
   "codemirror_mode": {
    "name": "ipython",
    "version": 3
   },
   "file_extension": ".py",
   "mimetype": "text/x-python",
   "name": "python",
   "nbconvert_exporter": "python",
   "pygments_lexer": "ipython3",
   "version": "3.10.10"
  }
 },
 "nbformat": 4,
 "nbformat_minor": 2
}
